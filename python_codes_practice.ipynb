{
  "nbformat": 4,
  "nbformat_minor": 0,
  "metadata": {
    "colab": {
      "provenance": [],
      "authorship_tag": "ABX9TyPVN9LYyghhEf2sdDNzngaW",
      "include_colab_link": true
    },
    "kernelspec": {
      "name": "python3",
      "display_name": "Python 3"
    },
    "language_info": {
      "name": "python"
    }
  },
  "cells": [
    {
      "cell_type": "markdown",
      "metadata": {
        "id": "view-in-github",
        "colab_type": "text"
      },
      "source": [
        "<a href=\"https://colab.research.google.com/github/parthsevak10/Python-practice-basic-to-advance/blob/main/python_codes_practice.ipynb\" target=\"_parent\"><img src=\"https://colab.research.google.com/assets/colab-badge.svg\" alt=\"Open In Colab\"/></a>"
      ]
    },
    {
      "cell_type": "markdown",
      "source": [
        "Write a function where the input is an array of integer and returns the sum of all the odd numbers in the array"
      ],
      "metadata": {
        "id": "I8MtnFMPzelU"
      }
    },
    {
      "cell_type": "code",
      "execution_count": 1,
      "metadata": {
        "id": "uru_IU86yRoX",
        "colab": {
          "base_uri": "https://localhost:8080/"
        },
        "outputId": "5801e3f7-a65d-42f5-9b6e-78288215322a"
      },
      "outputs": [
        {
          "output_type": "stream",
          "name": "stdout",
          "text": [
            "25\n"
          ]
        }
      ],
      "source": [
        "def sum_of_odd_numbers(arr):\n",
        "    return sum(num for num in arr if num % 2 != 0)\n",
        "numbers = [1, 2, 3, 4, 5, 6, 7, 8, 9]\n",
        "result = sum_of_odd_numbers(numbers)\n",
        "print(result)\n"
      ]
    },
    {
      "cell_type": "code",
      "source": [],
      "metadata": {
        "id": "NxZc7Mowzj_j"
      },
      "execution_count": null,
      "outputs": []
    }
  ]
}